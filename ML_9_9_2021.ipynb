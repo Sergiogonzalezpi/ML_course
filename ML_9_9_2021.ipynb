{
  "nbformat": 4,
  "nbformat_minor": 0,
  "metadata": {
    "colab": {
      "name": "ML-9-9-2021",
      "provenance": [],
      "authorship_tag": "ABX9TyPO2RtgfR0Meo8iDZGYpntK",
      "include_colab_link": true
    },
    "kernelspec": {
      "name": "python3",
      "display_name": "Python 3"
    },
    "language_info": {
      "name": "python"
    }
  },
  "cells": [
    {
      "cell_type": "markdown",
      "metadata": {
        "id": "view-in-github",
        "colab_type": "text"
      },
      "source": [
        "<a href=\"https://colab.research.google.com/github/Sergiogonzalezpi/ML_course/blob/main/ML_9_9_2021.ipynb\" target=\"_parent\"><img src=\"https://colab.research.google.com/assets/colab-badge.svg\" alt=\"Open In Colab\"/></a>"
      ]
    },
    {
      "cell_type": "code",
      "metadata": {
        "id": "-vEhDH84syc2"
      },
      "source": [
        "aaaaaaaaaaaaaaaaaaaaaaa"
      ],
      "execution_count": null,
      "outputs": []
    },
    {
      "cell_type": "markdown",
      "metadata": {
        "id": "i0QCiCQfvf1W"
      },
      "source": [
        "aaaaaaaaaaaaaaaaaaaaaaaaaaaaaaaaaaaaaa"
      ]
    },
    {
      "cell_type": "markdown",
      "metadata": {
        "id": "mDOUvI96vhKd"
      },
      "source": [
        "# AAAAAAAAAAAAAAAAAAAAAAAAAAAAAAAAAA"
      ]
    }
  ]
}